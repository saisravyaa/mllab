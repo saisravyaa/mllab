{
 "cells": [
  {
   "cell_type": "code",
   "execution_count": 1,
   "metadata": {},
   "outputs": [],
   "source": [
    "import numpy as np\n",
    "from scipy import stats"
   ]
  },
  {
   "cell_type": "code",
   "execution_count": 2,
   "metadata": {},
   "outputs": [],
   "source": [
    "data = [10, 15, 12, 8, 14, 18, 20, 11, 16, 13]"
   ]
  },
  {
   "cell_type": "code",
   "execution_count": 6,
   "metadata": {},
   "outputs": [],
   "source": [
    "mean = np.mean(data)\n",
    "median = np.median(data)\n",
    "std = np.std(data)\n",
    "mode_value = stats.mode(data)\n",
    "#mode = stats.mode(data)\n",
    "variance = np.var(data)\n",
    "min = min(data)\n",
    "max = max(data)\n",
    "normalized_data = [(val - min)/(max - min) for val in data]\n",
    "z_score = (data - mean)/std"
   ]
  },
  {
   "cell_type": "code",
   "execution_count": 7,
   "metadata": {},
   "outputs": [
    {
     "name": "stdout",
     "output_type": "stream",
     "text": [
      "Mean: 13.7\n",
      "Median: 13.5\n",
      "Mode: ModeResult(mode=8, count=1)\n",
      "Standard Deviation: 3.4942810419312296\n",
      "Variance: 12.21\n",
      "Min-Max Normalization: [0.16666666666666666, 0.5833333333333334, 0.3333333333333333, 0.0, 0.5, 0.8333333333333334, 1.0, 0.25, 0.6666666666666666, 0.4166666666666667]\n",
      "Standardization (Z-score): [-1.05887304  0.37203647 -0.48650924 -1.63123685  0.08585457  1.23058219\n",
      "  1.80294599 -0.77269114  0.65821838 -0.20032733]\n"
     ]
    }
   ],
   "source": [
    "print(f\"Mean: {mean}\")\n",
    "print(f\"Median: {median}\")\n",
    "print(f\"Mode: {mode_value}\")\n",
    "print(f\"Standard Deviation: {std}\")\n",
    "print(f\"Variance: {variance}\")\n",
    "print(f\"Min-Max Normalization: {normalized_data}\")\n",
    "print(f\"Standardization (Z-score): {z_score}\")"
   ]
  }
 ],
 "metadata": {
  "kernelspec": {
   "display_name": "Python 3",
   "language": "python",
   "name": "python3"
  },
  "language_info": {
   "codemirror_mode": {
    "name": "ipython",
    "version": 3
   },
   "file_extension": ".py",
   "mimetype": "text/x-python",
   "name": "python",
   "nbconvert_exporter": "python",
   "pygments_lexer": "ipython3",
   "version": "3.11.4"
  }
 },
 "nbformat": 4,
 "nbformat_minor": 2
}
